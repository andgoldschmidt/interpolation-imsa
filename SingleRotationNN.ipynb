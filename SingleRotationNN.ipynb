{
 "cells": [
  {
   "cell_type": "code",
   "execution_count": null,
   "id": "d27860f9-67bc-4ff4-9392-f9c017db4348",
   "metadata": {},
   "outputs": [],
   "source": [
    "using QuantumCollocation\n",
    "using NamedTrajectories\n",
    "using TrajectoryIndexingUtils\n",
    "\n",
    "using Interpolations\n",
    "using LinearAlgebra\n",
    "using SparseArrays\n",
    "\n",
    "# Plots\n",
    "using CairoMakie\n",
    "using Colors\n",
    "using Printf"
   ]
  },
  {
   "cell_type": "code",
   "execution_count": null,
   "id": "21a2bde1-0651-4652-803e-a17edac6f65b",
   "metadata": {},
   "outputs": [],
   "source": [
    "const Units = 1e9\n",
    "const MHz = 1e6 / Units\n",
    "const GHz = 1e9 / Units\n",
    "const ns = 1e-9 * Units\n",
    "const μs = 1e-6 * Units\n",
    ";"
   ]
  },
  {
   "cell_type": "code",
   "execution_count": null,
   "id": "c5080bb1-4df0-47b7-931e-8e20de3e51a6",
   "metadata": {},
   "outputs": [],
   "source": [
    "# Operators\n",
    "const Paulis = Dict(\n",
    "    \"I\" => Matrix{ComplexF64}(I, 2, 2),\n",
    "    \"X\" => Matrix{ComplexF64}([0 1; 1 0]),\n",
    "    \"Y\" => Matrix{ComplexF64}([0 -im; im 0]),\n",
    "    \"Z\" => Matrix{ComplexF64}([1 0; 0 -1]),\n",
    ")\n",
    "const a = [0 1; 0 0]\n",
    "const ad = transpose(a);\n",
    "excitation(theta) = exp(-im/2 * theta * Paulis[\"Z\"]);\n",
    "\n",
    "H_drift = [ ]\n",
    "\n",
    "H_drives = [\n",
    "     Paulis[\"X\"],\n",
    "     Paulis[\"Y\"]\n",
    "]\n",
    "system = QuantumSystem(H_drives);\n",
    "t_f = 20 * ns\n",
    "n_steps = 101\n",
    "times = range(0, t_f, n_steps)  # Alternative: collect(0:Δt:t_f)\n",
    "Δt = times[2] - times[1]"
   ]
  },
  {
   "cell_type": "code",
   "execution_count": null,
   "id": "4f5e127d-9510-44bd-b2ac-248e9f3c05fe",
   "metadata": {},
   "outputs": [],
   "source": [
    "### Generate Initial Trajectories \n",
    "PICO_max_iter = 100\n",
    "\n",
    "# Shape the cost function with weights on states and controls\n",
    "Q = 1000.\n",
    "R =1e-2\n",
    "# Add control bounds\n",
    "a_bound = 2 * π * 200 * MHz\n",
    "dda_bound = 1e-2\n",
    "\n",
    "initial_infidelities = []\n",
    "initial_trajectories = []\n",
    "initial_problems = []\n",
    "\n",
    "ops = Options()\n",
    "ops.print_info_string = \"yes\"\n",
    "ops.recalc_y = \"yes\"\n",
    "ops.recalc_y_feas_tol = 1.0 ##down\n",
    "ops.print_level = 2\n",
    "\n",
    "N = 11\n",
    "\n",
    "for theta in range(0,2*pi, N )    \n",
    "    \n",
    "    print(\"-----------------------\")\n",
    "    print(\"Angle \"*string(theta))\n",
    "    println(\"-----------------------\")\n",
    "\n",
    "    target = excitation(theta)    \n",
    "    p = UnitarySmoothPulseProblem(\n",
    "        system,\n",
    "        target,\n",
    "        n_steps,\n",
    "        Δt;\n",
    "        a_bound=a_bound,\n",
    "        dda_bound=dda_bound,\n",
    "        Q=Q,\n",
    "        R=R,\n",
    "        R_dda=R*10,\n",
    "        verbose=true,\n",
    "        hessian_approximation=true,\n",
    "        pade_order=10,\n",
    "        free_time=false,\n",
    "        timesteps_all_equal=true,\n",
    "      max_iter=PICO_max_iter,\n",
    "        ipopt_options=ops,\n",
    "        #geodesic=true\n",
    "    )\n",
    "    push!(initial_problems,p)\n",
    "    \n",
    "end\n",
    "\n"
   ]
  },
  {
   "cell_type": "code",
   "execution_count": null,
   "id": "2e315663-bd4a-444a-b5a0-de2e85d9def6",
   "metadata": {},
   "outputs": [],
   "source": [
    "trajectories = []\n",
    "for n in range(1,N-1)\n",
    "    problems = [initial_problems[n],initial_problems[n+1]]\n",
    "    print(\"-----------------------\")\n",
    "    print(\"Angle \"*string(range(0,2*pi, N )[n]))\n",
    "    println(\"-----------------------\")\n",
    "    \n",
    "        p = UnitaryDirectSumProblem(\n",
    "                problems, \n",
    "                1-1e-5;\n",
    "                Q=Q,\n",
    "                R=R,\n",
    "                verbose=true,\n",
    "                hessian_approximation=true,\n",
    "                pade_order=10,\n",
    "                autodiff=false,\n",
    "                free_time=false,\n",
    "                timesteps_all_equal=true,\n",
    "                max_iter=PICO_max_iter,\n",
    "                ipopt_options=ops,\n",
    "                #geodesic=true\n",
    "            )\n",
    "            solve!(p)  \n",
    "    push!(trajectories,p.trajectory[:a])\n",
    "end\n"
   ]
  },
  {
   "cell_type": "code",
   "execution_count": null,
   "id": "1e801628-73dc-497b-ae9a-3952f600440b",
   "metadata": {},
   "outputs": [],
   "source": [
    "using Interpolations\n",
    "\n",
    "DATA=[]\n",
    "\n",
    "for theta in range(0,2*pi,convert(Int64,2500))\n",
    "    control = nothing \n",
    "    if(theta in range(0, 2*pi, N ))\n",
    "        i = findfirst(item -> item == theta, range(0,2*pi, N ))\n",
    "        #control = trajectories[index][[1,2,3,4,5],:]\n",
    "        if(i<N)\n",
    "            #control = trajectories[i][[1,2,3,4,5],:]\n",
    "            control = trajectories[i][[1,2],:]\n",
    "        else\n",
    "            #control = trajectories[N-1][[6,7,8,9,10],:]\n",
    "            control = trajectories[N-1][[3,4],:]\n",
    "        end\n",
    "    else\n",
    "        i  = ceil(Int, (N-1)/(2*pi) * theta )\n",
    "        #control_interp = Interpolations.linear_interpolation([range(pi/N,pi*(2*N -1)/N,N)[i],range(pi/N,pi*(2*N -1)/N,N)[i+1]],[trajectories[i][[1,2,3,4,5],:],trajectories[i][[6,7,8,9,10],:]]  )\n",
    "        #control_interp = Interpolations.linear_interpolation([range(0,2*pi,N)[i],range(0,2*pi,N)[i+1]],[trajectories[i][[1,2],:],trajectories[i][[3,4],:]]  )\n",
    "        #control_interp = Interpolations.linear_interpolation([range(0,2*pi,N)[i],range(0,2*pi,N)[i+1]],[trajectories[i][[1,2,3,4,5],:],trajectories[i][[6,7,8,9,10],:]]  )\n",
    "        control_interp = Interpolations.linear_interpolation([range(0,2*pi,N)[i],range(0,2*pi,N)[i+1]],[trajectories[i][[1,2],:],trajectories[i][[3,4],:]]  )\n",
    "        control = control_interp(theta)\n",
    "    end\n",
    "    #x=operator_to_iso_vec([1 0 0 0;0 1 0 0; 0 0 1 0; 0 0 0 1])\n",
    "    x=operator_to_iso_vec([1 0 ;  0 1])\n",
    "    rollout_states = unitary_rollout(x,control,Δt,system)\n",
    "    push!(DATA,(unitary_infidelity(rollout_states[:, end], operator_to_iso_vec(excitation(theta)))))\n",
    "end"
   ]
  },
  {
   "cell_type": "code",
   "execution_count": null,
   "id": "3916d61c-138d-4738-b050-13848ca9eae5",
   "metadata": {
    "scrolled": true
   },
   "outputs": [],
   "source": [
    "\n",
    "f = Figure()\n",
    "ax = Axis(f[1, 1],\n",
    "    title = \"Infidelity Log Plot\",\n",
    "    xlabel = \"θ\",\n",
    "    ylabel = \"Infidelity\"\n",
    ")\n",
    "lines!(ax, range(0,2*pi,convert(Int64,2500)), log10.(convert(Array{Float64,1},DATA)), label  = \"Linear\",color = :blue)\n",
    "\n",
    "\n",
    "f[1, 2] = Legend(f, ax, \"Infidelity Data\", framevisible = false)\n",
    "f\n",
    "     "
   ]
  },
  {
   "cell_type": "code",
   "execution_count": null,
   "id": "d6c2a2c5-1283-40ae-a864-ef701655b736",
   "metadata": {},
   "outputs": [],
   "source": [
    "d=[]\n",
    "for i in range(1,N-1)\n",
    "    push!(d,trajectories[i][[1,2],:])\n",
    "end\n",
    "push!(d,trajectories[N-1][[3,4],:])"
   ]
  },
  {
   "cell_type": "code",
   "execution_count": null,
   "id": "55a41e11-22a2-4eb5-b594-7145f6d2f250",
   "metadata": {},
   "outputs": [],
   "source": [
    "f = Figure()\n",
    "ax1 = Axis(f[1, 1])\n",
    "lines!(ax1, d[2][1,:], color=:lightblue, linewidth=5)\n",
    "lines!(ax1, d[2][2,:], color=:lightblue, linewidth=5)\n",
    "\n",
    "f"
   ]
  },
  {
   "cell_type": "code",
   "execution_count": null,
   "id": "b2967bf9-c491-4c40-b761-4981f633b40f",
   "metadata": {},
   "outputs": [],
   "source": [
    "initial_x_train = []\n",
    "for m in range(1,n_steps)\n",
    "    for n in range(1,N)\n",
    "        push!(initial_x_train,range(0,2*pi, N )[n])\n",
    "        push!(initial_x_train,m)\n",
    "    end\n",
    "end\n",
    "initial_x_train = convert(Matrix{Float32},reshape(initial_x_train,(2,N*n_steps)))"
   ]
  },
  {
   "cell_type": "code",
   "execution_count": null,
   "id": "01bc2a1c-4279-4b7d-9f7c-365d7a3427ea",
   "metadata": {},
   "outputs": [],
   "source": [
    "initial_y_train=[]\n",
    "for m in range(1,n_steps)\n",
    "    for n in range(1,N)\n",
    "        push!(initial_y_train,d[n][:,m][1])\n",
    "        push!(initial_y_train,d[n][:,m][2])\n",
    "    end\n",
    "end\n",
    "initial_y_train = convert(Matrix{Float32},reshape(initial_y_train,(2,N*n_steps)))"
   ]
  },
  {
   "cell_type": "code",
   "execution_count": null,
   "id": "5aaf32bc-1e52-4752-884a-28c1b587629d",
   "metadata": {},
   "outputs": [],
   "source": [
    "using Flux"
   ]
  },
  {
   "cell_type": "code",
   "execution_count": null,
   "id": "794e042f-3094-4e2f-9ae2-f83fa13742cc",
   "metadata": {},
   "outputs": [],
   "source": [
    "layer1 = Dense(2 => 20,relu)\n",
    "layer2 = Dense(20 => 20,relu)\n",
    "layer3 = Dense(20 => 20,relu)\n",
    "layer4 = Dense(20 => 20,relu)\n",
    "layer5 = Dense(20 => 20,relu)\n",
    "layer6 = Dense(20 => 20,relu)\n",
    "layer7 = Dense(20 => 20,relu)\n",
    "layer8 = Dense(20 => 20,relu)\n",
    "layer9 = Dense(20 => 20,relu)\n",
    "layer10 = Dense(20 => 20,relu)\n",
    "layer11 = Dense(20 => 20,relu)\n",
    "layer12 = Dense(20 => 20,relu)\n",
    "layer13 = Dense(20 => 20,relu)\n",
    "layer14 = Dense(20 => 20,relu)\n",
    "layer15 = Dense(20 => 2)\n",
    "predict = layer15 ∘layer14 ∘layer13 ∘layer12 ∘layer11 ∘ layer10 ∘ layer9 ∘ layer8 ∘ layer7 ∘ layer6 ∘ layer5 ∘ layer4∘ layer3∘ layer2 ∘ layer1\n"
   ]
  },
  {
   "cell_type": "code",
   "execution_count": null,
   "id": "b35ae41f-411f-4ed2-ab82-305999765052",
   "metadata": {},
   "outputs": [],
   "source": [
    "predict(initial_x_train)"
   ]
  },
  {
   "cell_type": "code",
   "execution_count": null,
   "id": "1abb4caa-3bdd-4911-bf51-b9a082660d94",
   "metadata": {},
   "outputs": [],
   "source": [
    "using Statistics\n",
    "loss(model, x, y) = mean(abs2.(model(x) .- y));\n",
    "loss(predict,initial_x_train,initial_y_train)"
   ]
  },
  {
   "cell_type": "code",
   "execution_count": null,
   "id": "2dfbbe0c-7885-4ec1-94ab-01f4263f4f2d",
   "metadata": {},
   "outputs": [],
   "source": [
    "using Flux: train!\n",
    "opt = Flux.setup(ADAM(), predict)\n",
    "data = [(initial_x_train, initial_y_train)]"
   ]
  },
  {
   "cell_type": "code",
   "execution_count": null,
   "id": "56a68972-511d-497e-9289-c8480e357f49",
   "metadata": {},
   "outputs": [],
   "source": [
    "losses = []\n",
    "for epoch in 1:1000000\n",
    "         train!(loss, predict, data, opt)\n",
    "    if(epoch % 1000 == 0)\n",
    "        l=loss(predict,initial_x_train,initial_y_train)\n",
    "        @printf(\"Epoch: %d  Loss: %.4f \\n\",epoch,l)\n",
    "        push!(losses,l)\n",
    "    end\n",
    "end"
   ]
  },
  {
   "cell_type": "code",
   "execution_count": null,
   "id": "7de6c5c1-6d19-4bb4-b20f-12062bb1f6d9",
   "metadata": {},
   "outputs": [],
   "source": [
    "loss(predict, initial_x_train, initial_y_train)\n"
   ]
  },
  {
   "cell_type": "code",
   "execution_count": null,
   "id": "a19b2e68-ffbf-4383-a635-7c1ef3afe73e",
   "metadata": {},
   "outputs": [],
   "source": [
    "predicted_data =[convert(Matrix{Float64},reduce(hcat,[predict([theta,i]) for i in range(1,n_steps)])) for theta in range(0,2*pi,N)];"
   ]
  },
  {
   "cell_type": "code",
   "execution_count": null,
   "id": "f9b4bc73-3bfa-4626-aa4d-5a98470d9dd0",
   "metadata": {},
   "outputs": [],
   "source": [
    "f = Figure()\n",
    "ax1 = Axis(f[1, 1])\n",
    "lines!(ax1, d[5][1,:], color=:lightblue, linewidth=5)\n",
    "lines!(ax1, d[5][2,:], color=:lightblue, linewidth=5)\n",
    "\n",
    "lines!(ax1, predicted_data[5][1,:], color=:blue, linewidth=5)\n",
    "lines!(ax1, predicted_data[5][2,:], color=:blue, linewidth=5)\n",
    "\n",
    "f"
   ]
  },
  {
   "cell_type": "code",
   "execution_count": null,
   "id": "771179ed-8620-4ffb-895b-b15ca0615df2",
   "metadata": {},
   "outputs": [],
   "source": [
    "f = Figure()\n",
    "ax1 = Axis(f[1, 1])\n",
    "lines!(ax1, convert(Vector{Float32},losses), color=:lightblue, linewidth=5)\n",
    "\n",
    "\n",
    "f"
   ]
  },
  {
   "cell_type": "code",
   "execution_count": null,
   "id": "0aae684d-dcf9-4930-aed2-9ce96caaf27c",
   "metadata": {},
   "outputs": [],
   "source": [
    "x=[]\n",
    "y=[]\n",
    "for col in eachcol(initial_x_train)\n",
    "    push!(x,col[1])\n",
    "    push!(y,col[2])\n",
    "end\n",
    "\n",
    "z1=[]\n",
    "z2=[]\n",
    "for col in eachcol(initial_y_train)\n",
    "    push!(z1,col[1])\n",
    "    push!(z2,col[2])\n",
    "end\n",
    "\n",
    "NN_z1=[]\n",
    "NN_z2=[]\n",
    "for i in range(1,length(x))\n",
    "    p=predict([x[i],y[i]])\n",
    "    push!(NN_z1,p[1])\n",
    "    push!(NN_z2,p[2])\n",
    "end\n",
    "\n"
   ]
  },
  {
   "cell_type": "code",
   "execution_count": null,
   "id": "de5160f0-48ad-4b53-8a50-15661ebd4b9b",
   "metadata": {},
   "outputs": [],
   "source": [
    "surface(convert(Vector{Float32},x/(2*pi)), convert(Vector{Float32},y/n_steps), convert(Vector{Float32},z1))\n"
   ]
  },
  {
   "cell_type": "code",
   "execution_count": null,
   "id": "fd3da45e-566a-4243-b7ce-6923c4df050e",
   "metadata": {},
   "outputs": [],
   "source": [
    "surface(convert(Vector{Float32},x/(2*pi)), convert(Vector{Float32},y/n_steps), convert(Vector{Float32},NN_z1))"
   ]
  },
  {
   "cell_type": "code",
   "execution_count": null,
   "id": "b0595491-7b09-430f-a0ec-84d04b094f0d",
   "metadata": {},
   "outputs": [],
   "source": [
    "get_control(model,theta) = convert(Matrix{Float64},reduce(hcat,[model([theta,i]) for i in range(1,n_steps)]))\n",
    "\n",
    "function new_rollout(controls::AbstractMatrix{Float64})\n",
    "\n",
    "    \n",
    "    T = size(controls, 2)\n",
    "    ts = fill(Δt, T)\n",
    "\n",
    "    Ũ⃗ = [1 0 0 0; 0 1 0 0; 0 0 1 0; 0 0 0 1 ]\n",
    "\n",
    "    G_drift = Matrix{Float64}(system.G_drift)\n",
    "    G_drives = Matrix{Float64}.(system.G_drives)\n",
    "    for t = 2:T\n",
    "        aₜ₋₁ = controls[:, t - 1]\n",
    "        Gₜ = Integrators.G(\n",
    "            aₜ₋₁,\n",
    "            G_drift,\n",
    "            G_drives\n",
    "        )\n",
    "         Ũ⃗= exp(Gₜ * ts[t - 1]) *  Ũ⃗\n",
    "    end\n",
    "\n",
    "    return Ũ⃗[[1,2],[1,2]]+im*Ũ⃗[[3,4],[1,2]]\n",
    "end\n",
    "using Statistics\n",
    "infid(model,theta)=1-abs(tr(new_rollout(get_control(model,theta))'excitation(theta)))/2\n"
   ]
  },
  {
   "cell_type": "code",
   "execution_count": null,
   "id": "0e4bc80f-2302-488c-a6f8-0dd1fb36871e",
   "metadata": {},
   "outputs": [],
   "source": [
    "infde =[]\n",
    "\n",
    "for theta in range(0,2*pi,1000)\n",
    "    push!(infde,infid(predict,theta))\n",
    "end"
   ]
  },
  {
   "cell_type": "code",
   "execution_count": null,
   "id": "00425e07-5de7-457a-b382-52eb58dfac87",
   "metadata": {},
   "outputs": [],
   "source": [
    "plot(log10.(convert(Vector{Float32},(infde))))"
   ]
  },
  {
   "cell_type": "code",
   "execution_count": null,
   "id": "216f1728-4b54-47a7-b08e-be6b24f51834",
   "metadata": {},
   "outputs": [],
   "source": [
    "loss(model,x,y)=mean(infid.(model,x))\n",
    "x_train = Vector{Float32}(range(0,2*pi,100))\n",
    "y_train = range(0,2*pi,100)\n",
    "loss(predict,x_train,y_train)"
   ]
  },
  {
   "cell_type": "code",
   "execution_count": null,
   "id": "3817a2a4-44b7-4f3d-a65e-5c47015f9a9f",
   "metadata": {},
   "outputs": [],
   "source": [
    "using Flux: train!\n",
    "opt = Flux.setup(ADAM(), predict)\n",
    "data = [(x_train, y_train)]"
   ]
  },
  {
   "cell_type": "code",
   "execution_count": null,
   "id": "13a7e42b-f874-442b-bc5a-e77fb35c70a3",
   "metadata": {},
   "outputs": [],
   "source": [
    "losses = []\n",
    "for epoch in 1:10000\n",
    "        train!(loss, predict, data, opt)\n",
    "    if(epoch%100==0)\n",
    "        l=loss(predict,initial_x_train,initial_y_train)\n",
    "        @printf(\"Epoch: %d  Loss: %.4f \\n\",epoch,l)\n",
    "        push!(losses,l)\n",
    "    end\n",
    "end"
   ]
  },
  {
   "cell_type": "code",
   "execution_count": null,
   "id": "0198f6e2-3023-46b7-b9e2-35cc11945135",
   "metadata": {},
   "outputs": [],
   "source": [
    "loss(predict,x_train,y_train)"
   ]
  },
  {
   "cell_type": "code",
   "execution_count": null,
   "id": "2ec93a92-542e-4093-9190-540dc540a924",
   "metadata": {},
   "outputs": [],
   "source": [
    "plot(convert(Vector{Float64},losses))"
   ]
  },
  {
   "cell_type": "code",
   "execution_count": null,
   "id": "3edaa5ea-5ca9-4e43-b391-a55a34efb0e5",
   "metadata": {},
   "outputs": [],
   "source": [
    "infde =[]\n",
    "\n",
    "for theta in range(0,2*pi,1000)\n",
    "    push!(infde,infid(predict,theta))\n",
    "end"
   ]
  },
  {
   "cell_type": "code",
   "execution_count": null,
   "id": "2fab393f-9f3c-4566-b360-ac7f351a09a5",
   "metadata": {},
   "outputs": [],
   "source": [
    "plot(log10.(convert(Vector{Float32},(infde1))))"
   ]
  }
 ],
 "metadata": {
  "kernelspec": {
   "display_name": "Julia 1.9.4",
   "language": "julia",
   "name": "julia-1.9"
  },
  "language_info": {
   "file_extension": ".jl",
   "mimetype": "application/julia",
   "name": "julia",
   "version": "1.9.4"
  }
 },
 "nbformat": 4,
 "nbformat_minor": 5
}
