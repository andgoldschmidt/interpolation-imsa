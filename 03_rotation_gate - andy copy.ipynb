{
 "cells": [
  {
   "cell_type": "code",
   "execution_count": null,
   "id": "f884ef89",
   "metadata": {},
   "outputs": [],
   "source": [
    "# Exports QuantumCollocation, NamedTrajectories, and TrajectoryIndexingUtils\n",
    "using Piccolo\n",
    "using LinearAlgebra\n",
    "\n",
    "# Plots\n",
    "using CairoMakie"
   ]
  },
  {
   "cell_type": "code",
   "execution_count": null,
   "id": "5322e5a2",
   "metadata": {},
   "outputs": [],
   "source": [
    "const Units = 1e9\n",
    "const MHz = 1e6 / Units\n",
    "const GHz = 1e9 / Units\n",
    "const ns = 1e-9 * Units\n",
    "const μs = 1e-6 * Units\n",
    "\n",
    "const n_qubits = 1\n",
    "const n_levels = 2\n",
    "\n",
    "t_f = 50 * ns\n",
    "n_steps = 101\n",
    "times = range(0, t_f, n_steps)  # Alternative: collect(0:Δt:t_f)\n",
    "Δt = times[2] - times[1]"
   ]
  },
  {
   "cell_type": "code",
   "execution_count": null,
   "id": "d7bb86ad",
   "metadata": {},
   "outputs": [],
   "source": [
    "# Operators\n",
    "Paulis = Dict(\n",
    "    \"I\" => Matrix{ComplexF64}(I, 2, 2),\n",
    "    \"X\" => Matrix{ComplexF64}([0 1; 1 0]),\n",
    "    \"Y\" => Matrix{ComplexF64}([0 -im; im 0]),\n",
    "    \"Z\" => Matrix{ComplexF64}([1 0; 0 -1]),\n",
    ")\n",
    "Rx(theta)  = kron(Paulis[\"I\"],exp(-im * theta * Paulis[\"X\"]/2))\n",
    "Ry(theta)  = kron(Paulis[\"I\"],exp(-im * theta * Paulis[\"Y\"]/2))\n",
    "Rz(theta)  =  kron(Paulis[\"I\"],exp(-im * theta * Paulis[\"Z\"]/2))"
   ]
  },
  {
   "cell_type": "code",
   "execution_count": null,
   "id": "d88e45e4",
   "metadata": {},
   "outputs": [],
   "source": [
    "a = [0 1; 0 0]\n",
    "ad = transpose(a)\n",
    "a0  = kron(a,Paulis[\"I\"])\n",
    "ad0  = kron(ad,Paulis[\"I\"])\n",
    "a1  = kron(Paulis[\"I\"],a)\n",
    "ad1  = kron(Paulis[\"I\"],ad)"
   ]
  },
  {
   "cell_type": "code",
   "execution_count": null,
   "id": "3bb04f8a",
   "metadata": {},
   "outputs": [],
   "source": [
    "H_drift = [ ]\n",
    "H_drives = [\n",
    "    ad0 * a0,\n",
    "    ad1 * a1,\n",
    "    a0+ad0,\n",
    "    im * (a0-ad0),\n",
    "    a1+ad1,\n",
    "    im * (a1-ad1),\n",
    "    ad0 * a1 + a0 * ad1\n",
    "]\n",
    "system = QuantumSystem(H_drives)"
   ]
  },
  {
   "cell_type": "code",
   "execution_count": null,
   "id": "24b62b62",
   "metadata": {},
   "outputs": [],
   "source": [
    "target=Rx(pi/2)"
   ]
  },
  {
   "cell_type": "code",
   "execution_count": null,
   "id": "c8abc7af",
   "metadata": {},
   "outputs": [],
   "source": [
    "PICO_max_iter = 100\n",
    "\n",
    "# Shape the cost function with weights on states and controls\n",
    "Q = 100.\n",
    "R = .001\n",
    "\n",
    "# Add control bounds\n",
    "a_bound = 2 * π * 500 * MHz\n",
    "dda_bound = .02\n",
    "\n",
    "problem = UnitarySmoothPulseProblem(\n",
    "    system,\n",
    "    target,\n",
    "    n_steps,\n",
    "    Δt;\n",
    "    a_bound=a_bound,\n",
    "    dda_bound=dda_bound,\n",
    "    Q=Q,\n",
    "    R=R,\n",
    "    verbose=true,\n",
    "    hessian_approximation=true,\n",
    "    pade_order=4,\n",
    "    free_time=true,\n",
    "    timesteps_all_equal=false,\n",
    "    subspace=[1,2,3,4],\n",
    "    max_iter=PICO_max_iter,\n",
    ")"
   ]
  },
  {
   "cell_type": "code",
   "execution_count": null,
   "id": "5fb2f01f",
   "metadata": {
    "scrolled": false
   },
   "outputs": [],
   "source": [
    "solve!(problem)"
   ]
  },
  {
   "cell_type": "code",
   "execution_count": null,
   "id": "7c2f4d95",
   "metadata": {},
   "outputs": [],
   "source": [
    "result = copy(problem.trajectory)\n",
    "states = map(iso_vec_to_operator, eachslice(result[:Ũ⃗], dims=2));"
   ]
  },
  {
   "cell_type": "code",
   "execution_count": null,
   "id": "602ce717",
   "metadata": {},
   "outputs": [],
   "source": [
    "unitary_infidelity(result[:Ũ⃗][:, end], operator_to_iso_vec(target))"
   ]
  },
  {
   "cell_type": "code",
   "execution_count": null,
   "id": "06d6e11e",
   "metadata": {},
   "outputs": [],
   "source": [
    "rollout_states = unitary_rollout(result, system; integrator=exp);\n",
    "\n",
    "# .- the dot applies the operation elementwise\n",
    "ΔUs = map(norm, eachslice(rollout_states .- result[:Ũ⃗], dims=2))\n",
    "maximum(ΔUs)"
   ]
  },
  {
   "cell_type": "code",
   "execution_count": null,
   "id": "2d88d573",
   "metadata": {},
   "outputs": [],
   "source": [
    "unitary_infidelity(rollout_states[:, end], operator_to_iso_vec(target))"
   ]
  },
  {
   "cell_type": "code",
   "execution_count": null,
   "id": "3114d165",
   "metadata": {},
   "outputs": [],
   "source": [
    "ts = accumulate(+, timesteps(result)) .- timesteps(result)[1]\n",
    "as = result[:a]\n",
    "\n",
    "f = Figure()\n",
    "ax = Axis(f[1, 1], xlabel=\"ns\", ylabel=\"GHz\")\n",
    "\n",
    "for i in 1:size(as, 1)\n",
    "    lines!(ax, ts, as[i, :], label=\"$i\")\n",
    "end\n",
    "f"
   ]
  },
  {
   "cell_type": "code",
   "execution_count": null,
   "metadata": {},
   "outputs": [],
   "source": []
  }
 ],
 "metadata": {
  "kernelspec": {
   "display_name": "Julia 1.9.3",
   "language": "julia",
   "name": "julia-1.9"
  },
  "language_info": {
   "file_extension": ".jl",
   "mimetype": "application/julia",
   "name": "julia",
   "version": "1.9.3"
  }
 },
 "nbformat": 4,
 "nbformat_minor": 5
}
