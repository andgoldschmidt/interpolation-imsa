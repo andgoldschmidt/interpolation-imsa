{
 "cells": [
  {
   "cell_type": "code",
   "execution_count": null,
   "metadata": {},
   "outputs": [],
   "source": [
    "using QuantumCollocation\n",
    "using NamedTrajectories\n",
    "\n",
    "using LinearAlgebra\n",
    "using CairoMakie"
   ]
  },
  {
   "cell_type": "code",
   "execution_count": null,
   "metadata": {},
   "outputs": [],
   "source": [
    "H_drift = zeros(2, 2)\n",
    "H_drives = [GATES[:X], GATES[:Y]]\n",
    "U_goal = GATES[:X]\n",
    "T = 50\n",
    "Δt = .2\n",
    "\n",
    "probs = Dict()\n",
    "\n",
    "probs[\"default\"] = UnitarySmoothPulseProblem(\n",
    "    H_drift,\n",
    "    H_drives,\n",
    "    U_goal,\n",
    "    T,\n",
    "    Δt;\n",
    "    free_time=true,\n",
    "    timesteps_all_equal=false,\n",
    "    hessian_approximation=true,\n",
    ")\n",
    "\n",
    "solve!(probs[\"default\"]; max_iter=25)\n"
   ]
  },
  {
   "cell_type": "code",
   "execution_count": null,
   "metadata": {},
   "outputs": [],
   "source": [
    "plot(probs[\"default\"].trajectory)"
   ]
  },
  {
   "cell_type": "markdown",
   "metadata": {},
   "source": [
    "# Branch `offset_l2`\n",
    "-----\n",
    "\n",
    "## Changes to `problem_templates.jl`\n",
    "\n",
    "We modified the problem template to track the control provided by `a_track`.\n",
    "\n",
    "The regularizer you pass to `R_a` will determine the weight of this value.\n",
    "\n",
    "```Julia\n",
    "\tJ += QuadraticRegularizer(:a, traj, R_a; values=a_track)\n",
    "```\n",
    "\n",
    "I am keeping `a_guess` separate, so you can randomly initialize even if you want to eventually track a certain control.\n",
    "\n",
    "## Changes to `objectives.jl`\n",
    "\n",
    "The key changes is the values argument, where we plug in `a_track`.\n",
    "\n",
    "```Julia\n",
    "function QuadraticRegularizer(;\n",
    "\tname::Symbol=nothing,\n",
    "\ttimes::AbstractVector{Int}=1:traj.T,\n",
    "\tdim::Int=nothing,\n",
    "\tR::AbstractVector{<:Real}=ones(traj.dims[name]),\n",
    "\tvalues::Union{Nothing,AbstractArray{<:Real}}=nothing,\n",
    "\teval_hessian=true,\n",
    "\ttimestep_symbol=:Δt\n",
    ")\n",
    "```"
   ]
  },
  {
   "cell_type": "markdown",
   "metadata": {},
   "source": [
    "# Visual test\n",
    "-----\n",
    "\n",
    "Compare tracking (you should match the original picture) to no tracking (the pictures will be different)."
   ]
  },
  {
   "cell_type": "code",
   "execution_count": null,
   "metadata": {},
   "outputs": [],
   "source": [
    "# Weight the objective to make the controls match the previous solution\n",
    "probs[\"track\"] = UnitarySmoothPulseProblem(\n",
    "    H_drift,\n",
    "    H_drives,\n",
    "    U_goal,\n",
    "    T,\n",
    "    Δt;\n",
    "    a_track=probs[\"default\"].trajectory[:a],\n",
    "    free_time=true,\n",
    "    timesteps_all_equal=false,\n",
    "    hessian_approximation=true,\n",
    "    R_a=100.,\n",
    "    R_dda=100.\n",
    ")\n",
    "\n",
    "solve!(probs[\"track\"]; max_iter=100)"
   ]
  },
  {
   "cell_type": "code",
   "execution_count": null,
   "metadata": {},
   "outputs": [],
   "source": [
    "plot(probs[\"track\"].trajectory)"
   ]
  },
  {
   "cell_type": "code",
   "execution_count": null,
   "metadata": {},
   "outputs": [],
   "source": [
    "# Weight the objective to make the controls match the previous solution\n",
    "probs[\"no-track\"] = UnitarySmoothPulseProblem(\n",
    "    H_drift,\n",
    "    H_drives,\n",
    "    U_goal,\n",
    "    T,\n",
    "    Δt;\n",
    "    free_time=true,\n",
    "    timesteps_all_equal=false,\n",
    "    hessian_approximation=true,\n",
    "    R_a=100.,\n",
    "    R_dda=100.\n",
    ")\n",
    "\n",
    "solve!(probs[\"no-track\"]; max_iter=100)"
   ]
  },
  {
   "cell_type": "code",
   "execution_count": null,
   "metadata": {},
   "outputs": [],
   "source": [
    "plot(probs[\"no-track\"].trajectory)"
   ]
  },
  {
   "cell_type": "code",
   "execution_count": null,
   "metadata": {},
   "outputs": [],
   "source": []
  }
 ],
 "metadata": {
  "kernelspec": {
   "display_name": "Julia 1.9.3",
   "language": "julia",
   "name": "julia-1.9"
  },
  "language_info": {
   "file_extension": ".jl",
   "mimetype": "application/julia",
   "name": "julia",
   "version": "1.9.3"
  }
 },
 "nbformat": 4,
 "nbformat_minor": 2
}
