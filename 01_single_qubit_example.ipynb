{
 "cells": [
  {
   "cell_type": "markdown",
   "metadata": {},
   "source": [
    "# Introduction\n",
    "-----"
   ]
  },
  {
   "cell_type": "markdown",
   "metadata": {},
   "source": [
    "Julia is a functional language.\n",
    "\n",
    "All functions go right into the global namespace.\n",
    "\n",
    "VS Code will use the local Project environment.\n",
    "- Run `julia` in the project directory and type ] to enter package manger, then `activate .` to activate the env specified by the Project.toml in the repo. Generate a manifest by using `instantiate` (https://pkgdocs.julialang.org/v1/environments/#Using-someone-else's-project)\\\n",
    "\n",
    "Julia has extensive support for symbols, so it can be useful to change the default VS code fonts."
   ]
  },
  {
   "cell_type": "code",
   "execution_count": null,
   "metadata": {},
   "outputs": [],
   "source": [
    "# Exports QuantumCollocation, NamedTrajectories, and TrajectoryIndexingUtils\n",
    "using Piccolo\n",
    "using LinearAlgebra\n",
    "\n",
    "# Plots\n",
    "using CairoMakie"
   ]
  },
  {
   "cell_type": "markdown",
   "metadata": {},
   "source": [
    "# Set up the Hamiltonian\n",
    "-----"
   ]
  },
  {
   "cell_type": "markdown",
   "metadata": {},
   "source": [
    "We will define some constants. Constants fix the type of variables, and let the compiler be more specific so code can run faster."
   ]
  },
  {
   "cell_type": "code",
   "execution_count": null,
   "metadata": {},
   "outputs": [],
   "source": [
    "const Units = 1e9\n",
    "const MHz = 1e6 / Units\n",
    "const GHz = 1e9 / Units\n",
    "const ns = 1e-9 * Units\n",
    "const μs = 1e-6 * Units\n",
    "\n",
    "const n_qubits = 1\n",
    "const n_levels = 2\n",
    "\n",
    "t_f = 50 * ns\n",
    "n_steps = 51\n",
    "times = range(0, t_f, n_steps)  # Alternative: collect(0:Δt:t_f)\n",
    "Δt = times[2] - times[1]"
   ]
  },
  {
   "cell_type": "markdown",
   "metadata": {},
   "source": [
    "Julia defines column vectors by default. \n",
    "Compare columns:\n",
    "- `x = [1, 2, 3]`\n",
    "- `x = [1; 2; 3]`\n",
    "\n",
    "Contrast with row:\n",
    "- `x = [1 2 3]`\n",
    "\n",
    "The imaginary is `im`\n",
    "\n",
    "LinearAlgebra import an identity operator, `I`. This identity can rescale as necessary, but we can make it a concrete array type by constructing a matrix."
   ]
  },
  {
   "cell_type": "code",
   "execution_count": null,
   "metadata": {},
   "outputs": [],
   "source": [
    "# Operators\n",
    "Paulis = Dict(\n",
    "    \"I\" => Matrix{ComplexF64}(I, 2, 2),\n",
    "    \"X\" => Matrix{ComplexF64}([0 1; 1 0]),\n",
    "    \"Y\" => Matrix{ComplexF64}([0 -im; im 0]),\n",
    "    \"Z\" => Matrix{ComplexF64}([1 0; 0 -1]),\n",
    ")"
   ]
  },
  {
   "cell_type": "markdown",
   "metadata": {},
   "source": [
    "A `QuantumSystem` contains the drift and control Hamiltonians. You can always check what methods exist for a function name by calling `methods`."
   ]
  },
  {
   "cell_type": "code",
   "execution_count": null,
   "metadata": {},
   "outputs": [],
   "source": [
    "methods(QuantumSystem)"
   ]
  },
  {
   "cell_type": "markdown",
   "metadata": {},
   "source": [
    "It looks like we want `QuantumSystem(H_drift::Matrix{<:Number}, H_drives::Vector{<:Matrix{<:Number}}; ...)`"
   ]
  },
  {
   "cell_type": "code",
   "execution_count": null,
   "metadata": {},
   "outputs": [],
   "source": [
    "# Add a tiny dephasing\n",
    "Δω = .01 * GHz\n",
    "\n",
    "H_drift = Δω * Paulis[\"Z\"]\n",
    "H_drives = [\n",
    "    Paulis[\"X\"],\n",
    "    Paulis[\"Y\"]\n",
    "]\n",
    "\n",
    "system = QuantumSystem(H_drift, H_drives)"
   ]
  },
  {
   "cell_type": "markdown",
   "metadata": {},
   "source": [
    "You can explore the types that the functions return with a few useful tools."
   ]
  },
  {
   "cell_type": "code",
   "execution_count": null,
   "metadata": {},
   "outputs": [],
   "source": [
    "typeof(system)"
   ]
  },
  {
   "cell_type": "code",
   "execution_count": null,
   "metadata": {},
   "outputs": [],
   "source": [
    "fieldnames(typeof(system))"
   ]
  },
  {
   "cell_type": "markdown",
   "metadata": {},
   "source": [
    "And you can access the fields of the structs in the usual way"
   ]
  },
  {
   "cell_type": "code",
   "execution_count": null,
   "metadata": {},
   "outputs": [],
   "source": [
    "system.H_drives_real"
   ]
  },
  {
   "cell_type": "markdown",
   "metadata": {},
   "source": [
    "# Optimizaton problem\n",
    "-----"
   ]
  },
  {
   "cell_type": "markdown",
   "metadata": {},
   "source": [
    "Define a $\\sqrt{X}$ gate. Notice that Julia knows you have a matrix, so it calls the correct sqrt function from linear algebra.\n"
   ]
  },
  {
   "cell_type": "code",
   "execution_count": null,
   "metadata": {},
   "outputs": [],
   "source": [
    "# SX gate\n",
    "target = sqrt([0 1; 1 0])"
   ]
  },
  {
   "cell_type": "markdown",
   "metadata": {},
   "source": [
    "The adjoint can be computed with tick, and in that case multiplication can be suppressed. Let's check that our target is unitary."
   ]
  },
  {
   "cell_type": "code",
   "execution_count": null,
   "metadata": {},
   "outputs": [],
   "source": [
    "target'target "
   ]
  },
  {
   "cell_type": "code",
   "execution_count": null,
   "metadata": {},
   "outputs": [],
   "source": [
    "transpose(conj(target)) * target"
   ]
  },
  {
   "cell_type": "markdown",
   "metadata": {},
   "source": [
    "The constructors are in `problem_templates.jl` from the package `QuantumCollocation.jl`. The problem templates make a problem that you can solve.\n",
    "\n",
    "There are two main feature of the problem template: First, it constructs the dynamics constraint for you. Second, it constructs the objective function for you (fidelity, in our current case).\n",
    "\n",
    "You always need to set some control bounds for the problem to be well-defined. \n",
    "\n",
    "We will also shape the cost with `Q` on the state norm and `R` on the control norm. You can be more precise with the `R` for the control positon, control velocity, and control acceleration.\n",
    "\n",
    "The `hessian_approximation` is saying only use gradients; this is necessary for certain versions of the code for now, and doesn't matter too much if it's on.\n",
    "\n",
    "`pade_order` tells how accurate you want the dynamics constraint to be. it goes from 4 to 20 in even numbers.\n",
    "\n",
    "\n",
    "`free_time` and `timesteps_all_equal` can be set to do time optimization. I am fixing a bug for this currently, so you might not get the behavior you expect.\n",
    "\n",
    "`subspace` isn't needed for this problem, but this will let you define qubit gates when using guard levels (extra transmon levels)."
   ]
  },
  {
   "cell_type": "code",
   "execution_count": null,
   "metadata": {},
   "outputs": [],
   "source": [
    "PICO_max_iter = 100\n",
    "\n",
    "# Shape the cost function with weights on states and controls\n",
    "Q = 100.\n",
    "R = .5\n",
    "\n",
    "# Add control bounds\n",
    "a_bound = 2 * π * 500 * MHz\n",
    "dda_bound = .01\n",
    "\n",
    "problem = UnitarySmoothPulseProblem(\n",
    "    system,\n",
    "    target,\n",
    "    n_steps,\n",
    "    Δt;\n",
    "    a_bound=a_bound,\n",
    "    dda_bound=dda_bound,\n",
    "    Q=Q,\n",
    "    R=R,\n",
    "    verbose=true,\n",
    "    hessian_approximation=false,\n",
    "    pade_order=10,\n",
    "    free_time=false,\n",
    "    timesteps_all_equal=true,\n",
    "    subspace=[1, 2],\n",
    "    max_iter=PICO_max_iter,\n",
    ")"
   ]
  },
  {
   "cell_type": "markdown",
   "metadata": {},
   "source": [
    "Julia uses `!` to denote a function that changes the state of the arguments."
   ]
  },
  {
   "cell_type": "code",
   "execution_count": null,
   "metadata": {},
   "outputs": [],
   "source": [
    "solve!(problem)"
   ]
  },
  {
   "cell_type": "markdown",
   "metadata": {},
   "source": [
    "If the optimization is slow, let me know! There may be some tricks we can play."
   ]
  },
  {
   "cell_type": "markdown",
   "metadata": {},
   "source": [
    "## Subspaces"
   ]
  },
  {
   "cell_type": "markdown",
   "metadata": {},
   "source": [
    "`quantum_utils.jl` is where all the helpful tools live."
   ]
  },
  {
   "cell_type": "code",
   "execution_count": null,
   "metadata": {},
   "outputs": [],
   "source": [
    "# If you did need a subspace...\n",
    "methods(subspace_indices)"
   ]
  },
  {
   "cell_type": "code",
   "execution_count": null,
   "metadata": {},
   "outputs": [],
   "source": [
    "# Using transmons with 3 levels? Determine the indices you'd keep using...\n",
    "# ...1 qubit\n",
    "subspace_indices([3])\n",
    "\n",
    "# ...2 qubits\n",
    "subspace_indices([4, 4])"
   ]
  },
  {
   "cell_type": "markdown",
   "metadata": {},
   "source": [
    "# Results\n",
    "-----"
   ]
  },
  {
   "cell_type": "markdown",
   "metadata": {},
   "source": [
    "The results of your problem are stored in a named trajectory."
   ]
  },
  {
   "cell_type": "code",
   "execution_count": null,
   "metadata": {},
   "outputs": [],
   "source": [
    "result = copy(problem.trajectory)"
   ]
  },
  {
   "cell_type": "markdown",
   "metadata": {},
   "source": [
    "Let's use the pipe operator to check what the fieldnames are."
   ]
  },
  {
   "cell_type": "code",
   "execution_count": null,
   "metadata": {},
   "outputs": [],
   "source": [
    "result |> typeof |> fieldnames"
   ]
  },
  {
   "cell_type": "markdown",
   "metadata": {},
   "source": [
    "Named trajectories are accessed using symbol names."
   ]
  },
  {
   "cell_type": "code",
   "execution_count": null,
   "metadata": {},
   "outputs": [],
   "source": [
    "typeof(:anything)"
   ]
  },
  {
   "cell_type": "code",
   "execution_count": null,
   "metadata": {},
   "outputs": [],
   "source": [
    "result.names"
   ]
  },
  {
   "cell_type": "markdown",
   "metadata": {},
   "source": [
    "The iso_vec_to_operator will take a unitary from a real and imaginary concatenation (iso) of the vectorized matrix (vec). This is how we solve the unitary dynamics. Under the hood, we map the unitary matrix to a vector.\n",
    "\n",
    "The states are named using $\\tilde{\\vec{U}}$, which might not render well... See my comment at the top of the notebook about picking a VS code font like JuliaMono."
   ]
  },
  {
   "cell_type": "code",
   "execution_count": null,
   "metadata": {},
   "outputs": [],
   "source": [
    "iso_vec_to_operator(result[:Ũ⃗][:, 1])"
   ]
  },
  {
   "cell_type": "markdown",
   "metadata": {},
   "source": [
    "We can map that function over the whole array."
   ]
  },
  {
   "cell_type": "code",
   "execution_count": null,
   "metadata": {},
   "outputs": [],
   "source": [
    "states = map(iso_vec_to_operator, eachslice(result[:Ũ⃗], dims=2))"
   ]
  },
  {
   "cell_type": "markdown",
   "metadata": {},
   "source": [
    "Now we can rollout our controls using the dynamics model."
   ]
  },
  {
   "cell_type": "code",
   "execution_count": null,
   "metadata": {},
   "outputs": [],
   "source": [
    "methods(unitary_rollout)"
   ]
  },
  {
   "cell_type": "code",
   "execution_count": null,
   "metadata": {},
   "outputs": [],
   "source": [
    "rollout_states = unitary_rollout(result, system; integrator=exp)"
   ]
  },
  {
   "cell_type": "markdown",
   "metadata": {},
   "source": [
    "The rollouts don't need to match the states saved in the named trajectory.\n",
    "\n",
    "The states in the named trajectory are the optimization variable, which only satisfy the dynamics up to the constraint.\n",
    "\n",
    "You should always perform a rollout."
   ]
  },
  {
   "cell_type": "code",
   "execution_count": null,
   "metadata": {},
   "outputs": [],
   "source": [
    "# .- the dot applies the operation elementwise\n",
    "ΔUs = map(norm, eachslice(rollout_states .- result[:Ũ⃗], dims=2))\n",
    "maximum(ΔUs)"
   ]
  },
  {
   "cell_type": "markdown",
   "metadata": {},
   "source": [
    "# Plot with Makie\n",
    "-----"
   ]
  },
  {
   "cell_type": "code",
   "execution_count": null,
   "metadata": {
    "scrolled": false
   },
   "outputs": [],
   "source": [
    "ts = accumulate(+, timesteps(result)) .- timesteps(result)[1]\n",
    "as = result[:a]\n",
    "\n",
    "f = Figure()\n",
    "ax = Axis(f[1, 1], xlabel=\"ns\", ylabel=\"GHz\")\n",
    "\n",
    "lines!(ax, ts, as[1, :], label=\"X\")\n",
    "lines!(ax, ts, as[2, :], label=\"Y\")\n",
    "\n",
    "f"
   ]
  }
 ],
 "metadata": {
  "kernelspec": {
   "display_name": "Julia 1.9.4",
   "language": "julia",
   "name": "julia-1.9"
  },
  "language_info": {
   "file_extension": ".jl",
   "mimetype": "application/julia",
   "name": "julia",
   "version": "1.9.4"
  }
 },
 "nbformat": 4,
 "nbformat_minor": 2
}
