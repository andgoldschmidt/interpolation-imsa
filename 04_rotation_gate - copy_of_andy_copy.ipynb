{
 "cells": [
  {
   "cell_type": "code",
   "execution_count": null,
   "id": "f884ef89",
   "metadata": {},
   "outputs": [],
   "source": [
    "# Exports QuantumCollocation, NamedTrajectories, and TrajectoryIndexingUtils\n",
    "using Piccolo\n",
    "using LinearAlgebra\n",
    "\n",
    "# Plots\n",
    "using CairoMakie"
   ]
  },
  {
   "cell_type": "code",
   "execution_count": null,
   "id": "5322e5a2",
   "metadata": {},
   "outputs": [],
   "source": [
    "const Units = 1e9\n",
    "const MHz = 1e6 / Units\n",
    "const GHz = 1e9 / Units\n",
    "const ns = 1e-9 * Units\n",
    "const μs = 1e-6 * Units\n",
    "\n",
    "const n_qubits = 1\n",
    "const n_levels = 2\n",
    "\n",
    "t_f = 10 * ns\n",
    "n_steps = 101\n",
    "times = range(0, t_f, n_steps)  # Alternative: collect(0:Δt:t_f)\n",
    "Δt = times[2] - times[1]"
   ]
  },
  {
   "cell_type": "code",
   "execution_count": null,
   "id": "d7bb86ad",
   "metadata": {},
   "outputs": [],
   "source": [
    "# Operators\n",
    "Paulis = Dict(\n",
    "    \"I\" => Matrix{ComplexF64}(I, 2, 2),\n",
    "    \"X\" => Matrix{ComplexF64}([0 1; 1 0]),\n",
    "    \"Y\" => Matrix{ComplexF64}([0 -im; im 0]),\n",
    "    \"Z\" => Matrix{ComplexF64}([1 0; 0 -1]),\n",
    ")\n",
    "X0=kron(Paulis[\"X\"],Paulis[\"I\"])\n",
    "Y0=kron(Paulis[\"Y\"],Paulis[\"I\"])\n",
    "X1=kron(Paulis[\"I\"],Paulis[\"X\"])\n",
    "Y1=kron(Paulis[\"I\"],Paulis[\"Y\"])\n",
    "\n",
    "excitation(theta) = exp(-im/2 * theta * (X0 * Y1-Y0 * X1))"
   ]
  },
  {
   "cell_type": "code",
   "execution_count": null,
   "id": "d88e45e4",
   "metadata": {},
   "outputs": [],
   "source": [
    "a = [0 1; 0 0]\n",
    "ad = transpose(a)\n",
    "a0  = kron(a,Paulis[\"I\"])\n",
    "ad0  = kron(ad,Paulis[\"I\"])\n",
    "a1  = kron(Paulis[\"I\"],a)\n",
    "ad1  = kron(Paulis[\"I\"],ad);"
   ]
  },
  {
   "cell_type": "code",
   "execution_count": null,
   "id": "3bb04f8a",
   "metadata": {},
   "outputs": [],
   "source": [
    "H_drift = [ ]\n",
    "H_drives = [\n",
    "    ad0 * a0,\n",
    "    ad1 * a1,\n",
    "    a0+ad0,\n",
    "    im * (a0-ad0),\n",
    "    a1+ad1,\n",
    "    im * (a1-ad1),\n",
    "    ad0 * a1 + a0 * ad1\n",
    "]\n",
    "system = QuantumSystem(H_drives);"
   ]
  },
  {
   "cell_type": "code",
   "execution_count": null,
   "id": "c8abc7af",
   "metadata": {},
   "outputs": [],
   "source": [
    "PICO_max_iter = 250\n",
    "\n",
    "# Shape the cost function with weights on states and controls\n",
    "Q = 100.\n",
    "R = 1e-4\n",
    "\n",
    "# Add control bounds\n",
    "a_bound = 2 * π * 100 * MHz\n",
    "dda_bound = .02\n",
    "initial = nothing\n",
    "starter=nothing\n",
    "infidelities = []\n",
    "trajectories = []\n",
    "for i in 0:20\n",
    "    target = excitation(i*pi/10)\n",
    "    println(\"Angle \"*string(i*pi/10))\n",
    "    println(\"-----------------------\")\n",
    "    p = UnitarySmoothPulseProblem(\n",
    "        system,\n",
    "        target,\n",
    "        n_steps,\n",
    "        Δt;\n",
    "        a_bound=a_bound,\n",
    "        dda_bound=dda_bound,\n",
    "        Q=Q,\n",
    "        R=R,\n",
    "        verbose=true,\n",
    "        hessian_approximation=true,\n",
    "        pade_order=10,\n",
    "        free_time=true,\n",
    "        timesteps_all_equal=false,\n",
    "        subspace=[1,2,3,4],\n",
    "        max_iter=PICO_max_iter,\n",
    "    )\n",
    "     if(i==0)\n",
    "        starter = copy(p.trajectory)\n",
    "    end\n",
    "    solve!(p)\n",
    "    result = copy(p.trajectory)\n",
    "    initial = result\n",
    "   \n",
    "    push!(trajectories,result)\n",
    "    states = map(iso_vec_to_operator, eachslice(result[:Ũ⃗], dims=2))\n",
    "    println(\"Infidelity \" *string(unitary_infidelity(result[:Ũ⃗][:, end], operator_to_iso_vec(target))))\n",
    "    rollout_states = unitary_rollout(result, system; integrator=exp)\n",
    "    ΔUs = map(norm, eachslice(rollout_states .- result[:Ũ⃗], dims=2))\n",
    "    println(\"Rollout Error \"*string(maximum(ΔUs)))\n",
    "    println(\"Infidelity \"*string(unitary_infidelity(rollout_states[:, end], operator_to_iso_vec(target))))\n",
    "    push!(infidelities,unitary_infidelity(rollout_states[:, end], operator_to_iso_vec(target)))\n",
    "\n",
    "end"
   ]
  },
  {
   "cell_type": "code",
   "execution_count": null,
   "id": "0af658d5",
   "metadata": {
    "scrolled": true
   },
   "outputs": [],
   "source": [
    "infidelities"
   ]
  },
  {
   "cell_type": "code",
   "execution_count": null,
   "id": "2d9b4343",
   "metadata": {},
   "outputs": [],
   "source": [
    "PICO_max_iter = 250\n",
    "\n",
    "# Shape the cost function with weights on states and controls\n",
    "Q = 100.\n",
    "R = 1e-4\n",
    "\n",
    "# Add control bounds\n",
    "a_bound = 2 * π * 100 * MHz\n",
    "dda_bound = .02\n",
    "initial = starter\n",
    "initialized_infidelities = []\n",
    "initialized_trajectories = []\n",
    "for i in 0:20\n",
    "    target=excitation(i*pi/10)\n",
    "    println(\"Angle \"*string(i*pi/10))\n",
    "    println(\"-----------------------\")\n",
    "    p = UnitarySmoothPulseProblem(\n",
    "        system,\n",
    "        target,\n",
    "        n_steps,\n",
    "        Δt;\n",
    "        a_bound=a_bound,\n",
    "        dda_bound=dda_bound,\n",
    "        Q=Q,\n",
    "        R=R,\n",
    "        verbose=true,\n",
    "        hessian_approximation=true,\n",
    "        pade_order=10,\n",
    "        free_time=true,\n",
    "        timesteps_all_equal=false,\n",
    "        subspace=[1,2,3,4],\n",
    "        max_iter=PICO_max_iter,       \n",
    "    )\n",
    "    solve!(p, init_traj=initial)\n",
    "    result = copy(p.trajectory)\n",
    "    initial = copy(result)\n",
    "    push!(initialized_trajectories,initial)\n",
    "    states = map(iso_vec_to_operator, eachslice(initial[:Ũ⃗], dims=2))\n",
    "    println(\"Infidelity \" *string(unitary_infidelity(initial[:Ũ⃗][:, end], operator_to_iso_vec(target))))\n",
    "    rollout_states = unitary_rollout(initial, system; integrator=exp)\n",
    "    ΔUs = map(norm, eachslice(rollout_states .- initial[:Ũ⃗], dims=2))\n",
    "    println(\"Rollout Error \"*string(maximum(ΔUs)))\n",
    "    println(\"Infidelity \"*string(unitary_infidelity(rollout_states[:, end], operator_to_iso_vec(target))))\n",
    "    push!(initialized_infidelities,unitary_infidelity(rollout_states[:, end], operator_to_iso_vec(target)))\n",
    "end"
   ]
  },
  {
   "cell_type": "code",
   "execution_count": null,
   "id": "a9bf173a",
   "metadata": {
    "scrolled": true
   },
   "outputs": [],
   "source": [
    "initialized_infidelities"
   ]
  },
  {
   "cell_type": "code",
   "execution_count": null,
   "id": "569d87c6",
   "metadata": {},
   "outputs": [],
   "source": [
    "using Interpolations"
   ]
  },
  {
   "cell_type": "code",
   "execution_count": null,
   "id": "49e97dd6",
   "metadata": {},
   "outputs": [],
   "source": [
    "initialized_DATA=[]\n",
    "for theta in range(0,2*pi,2501)\n",
    "    trajectory = copy(initialized_trajectories[1])\n",
    "    interp_linear = Interpolations.linear_interpolation( 0:pi/10:2*pi, [i.datavec for i in initialized_trajectories]);\n",
    "    interp_linear1 = Interpolations.linear_interpolation( 0:pi/10:2*pi, [i.data for i in initialized_trajectories]);\n",
    "    trajectory.data=interp_linear1(theta)\n",
    "    trajectory.datavec=interp_linear(theta)\n",
    "    \n",
    "    target=excitation(theta)\n",
    "    states = map(iso_vec_to_operator, eachslice(trajectory[:Ũ⃗], dims=2))\n",
    "    rollout_states = unitary_rollout(trajectory, system; integrator=exp)\n",
    "    push!(initialized_DATA,(unitary_infidelity(rollout_states[:, end], operator_to_iso_vec(excitation(theta)))))\n",
    "end\n"
   ]
  },
  {
   "cell_type": "code",
   "execution_count": null,
   "id": "91eb9562",
   "metadata": {},
   "outputs": [],
   "source": [
    "DATA=[]\n",
    "for theta in range(0,2*pi,2501)\n",
    "    trajectory = copy(trajectories[1])\n",
    "    interp_linear = Interpolations.linear_interpolation( 0:pi/10:2*pi, [i.datavec for i in trajectories]);\n",
    "    interp_linear1 = Interpolations.linear_interpolation( 0:pi/10:2*pi, [i.data for i in trajectories]);\n",
    "    trajectory.data=interp_linear1(theta)\n",
    "    trajectory.datavec=interp_linear(theta)\n",
    "    \n",
    "    target=excitation(theta)\n",
    "    states = map(iso_vec_to_operator, eachslice(trajectory[:Ũ⃗], dims=2))\n",
    "    rollout_states = unitary_rollout(trajectory, system; integrator=exp)\n",
    "    push!(DATA,(unitary_infidelity(rollout_states[:, end], operator_to_iso_vec(excitation(theta)))))\n",
    "end\n"
   ]
  },
  {
   "cell_type": "code",
   "execution_count": null,
   "id": "5288097e",
   "metadata": {
    "scrolled": true
   },
   "outputs": [],
   "source": [
    "f = Figure()\n",
    "ax = Axis(f[1, 1],\n",
    "    title = \"Infidelity Log Plot\",\n",
    "    xlabel = \"θ\",\n",
    "    ylabel = \"Infidelity\"\n",
    ")\n",
    "lines!(ax, range(0,2*pi,2501), log10.(convert(Array{Float64,1},DATA)), label  = \"Non-Seeded\",color = :red)\n",
    "lines!(ax, range(0,2*pi,2501), log10.(convert(Array{Float64,1},initialized_DATA)), label  = \"Seeded\",color = :blue)\n",
    "scatter!(ax, range(0,2*pi,21), log10.(convert(Array{Float64,1},initialized_infidelities)), label  = \"Computed Seeded\",color = :purple)\n",
    "scatter!(ax, range(0,2*pi,21), log10.(convert(Array{Float64,1},infidelities)), label  = \"Computed Non-Seeded\",color = :orange)\n",
    "\n",
    "f[1, 2] = Legend(f, ax, \"Infidelity Data\", framevisible = false)\n",
    "f"
   ]
  }
 ],
 "metadata": {
  "kernelspec": {
   "display_name": "Julia 1.9.4",
   "language": "julia",
   "name": "julia-1.9"
  },
  "language_info": {
   "file_extension": ".jl",
   "mimetype": "application/julia",
   "name": "julia",
   "version": "1.9.4"
  }
 },
 "nbformat": 4,
 "nbformat_minor": 5
}
