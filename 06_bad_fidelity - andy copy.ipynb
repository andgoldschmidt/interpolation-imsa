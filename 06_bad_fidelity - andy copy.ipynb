{
 "cells": [
  {
   "cell_type": "code",
   "execution_count": null,
   "id": "1b4cfbee",
   "metadata": {},
   "outputs": [],
   "source": [
    "# Exports QuantumCollocation, NamedTrajectories, and TrajectoryIndexingUtils\n",
    "using QuantumCollocation\n",
    "using NamedTrajectories\n",
    "using TrajectoryIndexingUtils\n",
    "using LinearAlgebra\n",
    "\n",
    "# Plots\n",
    "using CairoMakie\n",
    "using LaTeXStrings"
   ]
  },
  {
   "cell_type": "code",
   "execution_count": null,
   "id": "251905e3",
   "metadata": {},
   "outputs": [],
   "source": [
    "const Units = 1e9\n",
    "const MHz = 1e6 / Units\n",
    "const GHz = 1e9 / Units\n",
    "const ns = 1e-9 * Units\n",
    "const μs = 1e-6 * Units\n",
    "\n",
    "const n_qubits = 2\n",
    "const n_levels = 2\n",
    "\n",
    "t_f = 10 * ns\n",
    "n_steps = 51\n",
    "times = range(0, t_f, n_steps)  # Alternative: collect(0:Δt:t_f)\n",
    "Δt = times[2] - times[1]"
   ]
  },
  {
   "cell_type": "code",
   "execution_count": null,
   "id": "3618b1fd",
   "metadata": {},
   "outputs": [],
   "source": [
    "# Operators\n",
    "Paulis = Dict(\n",
    "    \"I\" => Matrix{ComplexF64}(I, 2, 2),\n",
    "    \"X\" => Matrix{ComplexF64}([0 1; 1 0]),\n",
    "    \"Y\" => Matrix{ComplexF64}([0 -im; im 0]),\n",
    "    \"Z\" => Matrix{ComplexF64}([1 0; 0 -1]),\n",
    ")\n",
    "X0=kron(Paulis[\"X\"],Paulis[\"I\"])\n",
    "Y0=kron(Paulis[\"Y\"],Paulis[\"I\"])\n",
    "X1=kron(Paulis[\"I\"],Paulis[\"X\"])\n",
    "Y1=kron(Paulis[\"I\"],Paulis[\"Y\"])\n",
    "\n",
    "excitation(theta) = exp(-im/2 * theta * (X0 * Y1 - Y0 * X1))"
   ]
  },
  {
   "cell_type": "code",
   "execution_count": null,
   "id": "59d4c5a3",
   "metadata": {},
   "outputs": [],
   "source": [
    "a = [0im 1; 0 0]\n",
    "ad = transpose(a)\n",
    "a0  = kron(a,Paulis[\"I\"])\n",
    "ad0  = kron(ad,Paulis[\"I\"])\n",
    "a1  = kron(Paulis[\"I\"],a)\n",
    "ad1  = kron(Paulis[\"I\"],ad);\n",
    "\n",
    "# instantiate an identity matrix\n",
    "I2 = Matrix{ComplexF64}(I, 2, 2);"
   ]
  },
  {
   "cell_type": "code",
   "execution_count": null,
   "id": "2554df80",
   "metadata": {},
   "outputs": [],
   "source": [
    "H_drift = zeros(ComplexF64, n_levels^n_qubits, n_levels^n_qubits)\n",
    "\n",
    "H_drives = [\n",
    "    Matrix{ComplexF64}(I, n_levels^n_qubits, n_levels^n_qubits),\n",
    "    ad0 * a0,\n",
    "    ad1 * a1,\n",
    "    a0 + ad0,\n",
    "    im * (a0 - ad0),\n",
    "    a1 + ad1,\n",
    "    im * (a1 - ad1),\n",
    "    ad0 * a1 + a0 * ad1,\n",
    "    # -im * (ad0 * a1 - a0 * ad1),\n",
    "    # (a0 + ad0) * (a1 + ad1),\n",
    "    # -(a0 - ad0) * (a1 - ad1)\n",
    "]\n",
    "system = QuantumSystem(H_drift, H_drives)\n",
    ";"
   ]
  },
  {
   "cell_type": "markdown",
   "id": "ffca9f83",
   "metadata": {},
   "source": [
    "The Hamiltonian we use to drive the gate is the same as the excitation."
   ]
  },
  {
   "cell_type": "code",
   "execution_count": null,
   "id": "0f1099f7",
   "metadata": {},
   "outputs": [],
   "source": [
    "# theta = 1.0 * pi\n",
    "theta = 1.15 * pi\n",
    "\n",
    "target = excitation(theta)\n",
    "\n",
    "target == exp(-im * theta * -im * (ad0 * a1 - a0 * ad1))"
   ]
  },
  {
   "cell_type": "markdown",
   "id": "012779e0",
   "metadata": {},
   "source": [
    "It looks like the path of the optimizer goes through these regions where inf_du is saturated. The objective continues to decrease, even if the inf_du is sitting at a value that is not optimal.\n",
    "\n",
    "We are observing that the objective is not senstive to the constraints.\n",
    "\n",
    "We can add a heuristic from ipopt to help."
   ]
  },
  {
   "cell_type": "code",
   "execution_count": null,
   "id": "89333b27",
   "metadata": {},
   "outputs": [],
   "source": [
    "# Shape the cost function with weights on states and controls\n",
    "Q = 10.\n",
    "R = 1e-4\n",
    "# Add control bounds\n",
    "a_bound = 2 * π * 500 * MHz\n",
    "dda_bound = 0.5\n",
    "\n",
    "ops = Options()\n",
    "ops.print_info_string = \"yes\"\n",
    "ops.recalc_y = \"yes\"\n",
    "ops.recalc_y_feas_tol = 1.0\n",
    "\n",
    "p = UnitarySmoothPulseProblem(\n",
    "    system,\n",
    "    target,\n",
    "    n_steps,\n",
    "    Δt;\n",
    "    Δt_min = 0.5 * Δt,\n",
    "    Δt_max = 1.5 * Δt,\n",
    "    a_bound=a_bound,\n",
    "    dda_bound=dda_bound,\n",
    "    Q=Q,\n",
    "    R=R,\n",
    "    verbose=true,\n",
    "    hessian_approximation=true,\n",
    "    # pade_order=10,\n",
    "    pade_order=20,\n",
    "    free_time=false,\n",
    "    timesteps_all_equal=true,\n",
    "    ipopt_options=ops,\n",
    ")"
   ]
  },
  {
   "cell_type": "code",
   "execution_count": null,
   "id": "925f1483",
   "metadata": {},
   "outputs": [],
   "source": [
    "solve!(p; max_iter=50)\n",
    "result = copy(p.trajectory)\n",
    "\n",
    "println(\"Fidelity: \", unitary_fidelity(p))"
   ]
  },
  {
   "cell_type": "code",
   "execution_count": null,
   "id": "84f14a64",
   "metadata": {},
   "outputs": [],
   "source": [
    "plot(result)"
   ]
  },
  {
   "cell_type": "code",
   "execution_count": null,
   "id": "85760021",
   "metadata": {},
   "outputs": [],
   "source": []
  },
  {
   "cell_type": "markdown",
   "id": "d5c56536",
   "metadata": {},
   "source": [
    "# Tests"
   ]
  },
  {
   "cell_type": "code",
   "execution_count": null,
   "id": "21a9e304",
   "metadata": {},
   "outputs": [],
   "source": [
    "# Test\n",
    "states = map(iso_vec_to_operator, eachslice(result[:Ũ⃗], dims=2))\n",
    "println(\"Fidelity \", unitary_fidelity(p))\n",
    "println(\"Stored fidelity \", unitary_fidelity(result[:Ũ⃗][:, end], operator_to_iso_vec(target)))\n",
    "\n",
    "\n",
    "rollout_states = unitary_rollout(result, system; integrator=exp)\n",
    "ΔUs = rollout_states .- result[:Ũ⃗]\n",
    "norm_ΔUs = map(norm, eachslice(rollout_states .- result[:Ũ⃗], dims=2))\n",
    "fid_ΔUs = [unitary_fidelity(rollout_states[:, i], result[:Ũ⃗][:, i]) for i ∈ 1:size(result[:Ũ⃗], 2)]\n",
    "\n",
    "println(\"Rollout Error \", maximum(norm_ΔUs))"
   ]
  },
  {
   "cell_type": "markdown",
   "id": "d2ff24f4",
   "metadata": {},
   "source": [
    "unitarity = []\n",
    "for Ũ⃗ in eachcol(rollout_states)\n",
    "    U = iso_vec_to_operator(Ũ⃗)\n",
    "    d = diag(U'U)\n",
    "    push!(unitarity, (maximum(real.(d)), maximum(imag.(d))))\n",
    "end\n",
    "unitarity"
   ]
  },
  {
   "cell_type": "code",
   "execution_count": null,
   "id": "7876ad8d",
   "metadata": {},
   "outputs": [],
   "source": [
    "f = Figure(resolution = 1.5 .* (525, 325))\n",
    "ax1 = f[1,1] = Axis(f, xlabel = \"step\", ylabel = L\"$||\\Delta U||$\")\n",
    "ax2 = f[1,1] = Axis(f, xlabel = \"step\", ylabel = L\"$\\ddot{a}$\")\n",
    "ax2.yaxisposition = :right\n",
    "ax2.yticklabelalign = (:left, :center)\n",
    "ax2.xticklabelsvisible = false\n",
    "ax2.xlabelvisible = false\n",
    "\n",
    "lines!(ax1, 1 .- fid_ΔUs, linewidth=3, color=:black, linestyle=:solid)\n",
    "# lines!(ax1, accumulate(+, 1 .- fid_ΔUs), linewidth=3, color=:black, linestyle=:solid)\n",
    "\n",
    "\n",
    "# lines!(ax2, -norm_ΔUs, linewidth=3, color=:black, linestyle=:solid)\n",
    "# lines!(ax1, accumulate(+, -norm_ΔUs), linewidth=3, color=:black, linestyle=:solid)\n",
    "\n",
    "# for row in eachrow(ΔUs)\n",
    "#     # lines!(ax1, accumulate(+, row), linewidth=2, linestyle=:solid)\n",
    "#     lines!(ax1, row, linewidth=2, linestyle=:solid)\n",
    "# end\n",
    "\n",
    "for row in eachrow(result[:a])\n",
    "    lines!(ax2, row, linewidth=2, linestyle=:dash)\n",
    "end\n",
    "# lines!(ax2, result[:a][end, :], linestyle=:dash, linewidth=3, color=:black)\n",
    "\n",
    "# linkxaxes!(ax1,ax2)\n",
    "f"
   ]
  },
  {
   "cell_type": "markdown",
   "id": "125c0f8c",
   "metadata": {},
   "source": [
    "U_tests = unitary_rollout(a, Δt, p.system)\n",
    "\n",
    "ΔUs_test = U_tests .- result[:Ũ⃗]\n",
    "norm_ΔUs_test = map(norm, eachslice(U_tests .- result[:Ũ⃗], dims=2))\n",
    "fid_ΔUs_test = [unitary_fidelity(U_tests[:, i], result[:Ũ⃗][:, i]) for i ∈ 1:size(result[:Ũ⃗], 2)];"
   ]
  },
  {
   "cell_type": "markdown",
   "id": "d92a65a5",
   "metadata": {},
   "source": [
    "f = Figure(resolution = 1.5 .* (525, 325))\n",
    "ax1 = f[1,1] = Axis(f, xlabel = \"step\", ylabel = L\"$||\\Delta U||$\")\n",
    "ax2 = f[1,1] = Axis(f, xlabel = \"step\", ylabel = L\"$\\ddot{a}$\")\n",
    "ax2.yaxisposition = :right\n",
    "ax2.yticklabelalign = (:left, :center)\n",
    "ax2.xticklabelsvisible = false\n",
    "ax2.xlabelvisible = false\n",
    "\n",
    "lines!(ax1, 1 .- fid_ΔUs_test, linewidth=3, color=:black, linestyle=:solid)\n",
    "\n",
    "lines!(ax1, 1 .- fid_ΔUs, linewidth=3, color=:orange, linestyle=:solid)\n",
    "\n",
    "\n",
    "f"
   ]
  },
  {
   "cell_type": "markdown",
   "id": "590ae1da",
   "metadata": {},
   "source": [
    "f = Figure(resolution = (525, 325))\n",
    "ax = Axis(f[1, 1])\n",
    "hist!(ax, timesteps(result))\n",
    "f"
   ]
  },
  {
   "cell_type": "code",
   "execution_count": null,
   "id": "76e986f3",
   "metadata": {},
   "outputs": [],
   "source": []
  }
 ],
 "metadata": {
  "kernelspec": {
   "display_name": "Julia 1.9.4",
   "language": "julia",
   "name": "julia-1.9"
  },
  "language_info": {
   "file_extension": ".jl",
   "mimetype": "application/julia",
   "name": "julia",
   "version": "1.9.4"
  }
 },
 "nbformat": 4,
 "nbformat_minor": 5
}
